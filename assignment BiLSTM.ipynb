{
 "cells": [
  {
   "cell_type": "markdown",
   "id": "b2966dae",
   "metadata": {},
   "source": [
    "# Sentiment Analysis using BiLSTM\n",
    "________________________________________________________________________________________"
   ]
  },
  {
   "cell_type": "markdown",
   "id": "e32232c9",
   "metadata": {},
   "source": [
    "Code consists of  :\n",
    "1. import modules\n",
    "2. data preprocessing\n",
    "3. tokenization\n",
    "4. word2vec model\n",
    "5. embedding layer\n",
    "6. building BiLSTM model\n",
    "7. model evaluation\n",
    "8. sentiment prediction"
   ]
  },
  {
   "cell_type": "markdown",
   "id": "02f1cd06",
   "metadata": {},
   "source": [
    "# 1. Import Modules"
   ]
  },
  {
   "cell_type": "code",
   "execution_count": 24,
   "id": "2f384698",
   "metadata": {},
   "outputs": [],
   "source": [
    "import pandas as pd\n",
    "import nltk\n",
    "import time\n",
    "import matplotlib.pyplot as plt\n",
    "import numpy as np\n",
    "import seaborn as sns\n",
    "\n",
    "# data preprocessing\n",
    "import string\n",
    "import emoji\n",
    "import re\n",
    "import nltk\n",
    "from textblob import TextBlob\n",
    "from nltk.corpus import wordnet\n",
    "from nltk.tokenize import word_tokenize\n",
    "\n",
    "# model training\n",
    "from keras.preprocessing import sequence\n",
    "from keras.models import Sequential\n",
    "from keras.layers import Dense, Dropout, Embedding, LSTM, Bidirectional\n",
    "from sklearn.preprocessing import LabelEncoder\n",
    "from sklearn.model_selection import train_test_split\n",
    "from gensim.models import Word2Vec\n",
    "from sklearn.metrics import classification_report, confusion_matrix, accuracy_score\n",
    "from tensorflow.keras.preprocessing.text import Tokenizer\n",
    "from tensorflow.keras.preprocessing.sequence import pad_sequences\n",
    "from tensorflow.keras.models import Sequential\n",
    "from tensorflow.keras.layers import Activation, Dense, Dropout, Embedding, Flatten, Conv1D, MaxPooling1D, LSTM\n",
    "from tensorflow.keras import utils\n",
    "from tensorflow.keras.callbacks import ReduceLROnPlateau, EarlyStopping\n",
    "\n",
    "# Word2vec\n",
    "import gensim\n",
    "\n",
    "# save model\n",
    "import pickle"
   ]
  },
  {
   "cell_type": "code",
   "execution_count": 25,
   "id": "88723919",
   "metadata": {},
   "outputs": [],
   "source": [
    "data = pd.read_csv('IMDB_Dataset_label.csv')"
   ]
  },
  {
   "cell_type": "code",
   "execution_count": 26,
   "id": "8654ac39",
   "metadata": {},
   "outputs": [
    {
     "data": {
      "text/html": [
       "<div>\n",
       "<style scoped>\n",
       "    .dataframe tbody tr th:only-of-type {\n",
       "        vertical-align: middle;\n",
       "    }\n",
       "\n",
       "    .dataframe tbody tr th {\n",
       "        vertical-align: top;\n",
       "    }\n",
       "\n",
       "    .dataframe thead th {\n",
       "        text-align: right;\n",
       "    }\n",
       "</style>\n",
       "<table border=\"1\" class=\"dataframe\">\n",
       "  <thead>\n",
       "    <tr style=\"text-align: right;\">\n",
       "      <th></th>\n",
       "      <th>Unnamed: 0</th>\n",
       "      <th>review</th>\n",
       "      <th>sentiment</th>\n",
       "      <th>label</th>\n",
       "    </tr>\n",
       "  </thead>\n",
       "  <tbody>\n",
       "    <tr>\n",
       "      <th>0</th>\n",
       "      <td>0</td>\n",
       "      <td>One of the other reviewers has mentioned that after watching just 1 Oz episode you'll be hooked. They are right, as this is exactly what happened with me.&lt;br /&gt;&lt;br /&gt;The first thing that struck me about Oz was its brutality and unflinching scenes of violence, which set in right from the word GO. Trust me, this is not a show for the faint hearted or timid. This show pulls no punches with regards to drugs, sex or violence. Its is hardcore, in the classic use of the word.&lt;br /&gt;&lt;br /&gt;It is called OZ as that is the nickname given to the Oswald Maximum Security State Penitentary. It focuses mainly on Emerald City, an experimental section of the prison where all the cells have glass fronts and face inwards, so privacy is not high on the agenda. Em City is home to many..Aryans, Muslims, gangstas, Latinos, Christians, Italians, Irish and more....so scuffles, death stares, dodgy dealings and shady agreements are never far away.&lt;br /&gt;&lt;br /&gt;I would say the main appeal of the show is due to the fact that it goes where other shows wouldn't dare. Forget pretty pictures painted for mainstream audiences, forget charm, forget romance...OZ doesn't mess around. The first episode I ever saw struck me as so nasty it was surreal, I couldn't say I was ready for it, but as I watched more, I developed a taste for Oz, and got accustomed to the high levels of graphic violence. Not just violence, but injustice (crooked guards who'll be sold out for a nickel, inmates who'll kill on order and get away with it, well mannered, middle class inmates being turned into prison bitches due to their lack of street skills or prison experience) Watching Oz, you may become comfortable with what is uncomfortable viewing....thats if you can get in touch with your darker side.</td>\n",
       "      <td>positive</td>\n",
       "      <td>1</td>\n",
       "    </tr>\n",
       "    <tr>\n",
       "      <th>1</th>\n",
       "      <td>1</td>\n",
       "      <td>A wonderful little production. &lt;br /&gt;&lt;br /&gt;The filming technique is very unassuming- very old-time-BBC fashion and gives a comforting, and sometimes discomforting, sense of realism to the entire piece. &lt;br /&gt;&lt;br /&gt;The actors are extremely well chosen- Michael Sheen not only \"has got all the polari\" but he has all the voices down pat too! You can truly see the seamless editing guided by the references to Williams' diary entries, not only is it well worth the watching but it is a terrificly written and performed piece. A masterful production about one of the great master's of comedy and his life. &lt;br /&gt;&lt;br /&gt;The realism really comes home with the little things: the fantasy of the guard which, rather than use the traditional 'dream' techniques remains solid then disappears. It plays on our knowledge and our senses, particularly with the scenes concerning Orton and Halliwell and the sets (particularly of their flat with Halliwell's murals decorating every surface) are terribly well done.</td>\n",
       "      <td>positive</td>\n",
       "      <td>1</td>\n",
       "    </tr>\n",
       "    <tr>\n",
       "      <th>2</th>\n",
       "      <td>2</td>\n",
       "      <td>I thought this was a wonderful way to spend time on a too hot summer weekend, sitting in the air conditioned theater and watching a light-hearted comedy. The plot is simplistic, but the dialogue is witty and the characters are likable (even the well bread suspected serial killer). While some may be disappointed when they realize this is not Match Point 2: Risk Addiction, I thought it was proof that Woody Allen is still fully in control of the style many of us have grown to love.&lt;br /&gt;&lt;br /&gt;This was the most I'd laughed at one of Woody's comedies in years (dare I say a decade?). While I've never been impressed with Scarlet Johanson, in this she managed to tone down her \"sexy\" image and jumped right into a average, but spirited young woman.&lt;br /&gt;&lt;br /&gt;This may not be the crown jewel of his career, but it was wittier than \"Devil Wears Prada\" and more interesting than \"Superman\" a great comedy to go see with friends.</td>\n",
       "      <td>positive</td>\n",
       "      <td>1</td>\n",
       "    </tr>\n",
       "    <tr>\n",
       "      <th>3</th>\n",
       "      <td>3</td>\n",
       "      <td>Basically there's a family where a little boy (Jake) thinks there's a zombie in his closet &amp; his parents are fighting all the time.&lt;br /&gt;&lt;br /&gt;This movie is slower than a soap opera... and suddenly, Jake decides to become Rambo and kill the zombie.&lt;br /&gt;&lt;br /&gt;OK, first of all when you're going to make a film you must Decide if its a thriller or a drama! As a drama the movie is watchable. Parents are divorcing &amp; arguing like in real life. And then we have Jake with his closet which totally ruins all the film! I expected to see a BOOGEYMAN similar movie, and instead i watched a drama with some meaningless thriller spots.&lt;br /&gt;&lt;br /&gt;3 out of 10 just for the well playing parents &amp; descent dialogs. As for the shots with Jake: just ignore them.</td>\n",
       "      <td>negative</td>\n",
       "      <td>0</td>\n",
       "    </tr>\n",
       "    <tr>\n",
       "      <th>4</th>\n",
       "      <td>4</td>\n",
       "      <td>Petter Mattei's \"Love in the Time of Money\" is a visually stunning film to watch. Mr. Mattei offers us a vivid portrait about human relations. This is a movie that seems to be telling us what money, power and success do to people in the different situations we encounter. &lt;br /&gt;&lt;br /&gt;This being a variation on the Arthur Schnitzler's play about the same theme, the director transfers the action to the present time New York where all these different characters meet and connect. Each one is connected in one way, or another to the next person, but no one seems to know the previous point of contact. Stylishly, the film has a sophisticated luxurious look. We are taken to see how these people live and the world they live in their own habitat.&lt;br /&gt;&lt;br /&gt;The only thing one gets out of all these souls in the picture is the different stages of loneliness each one inhabits. A big city is not exactly the best place in which human relations find sincere fulfillment, as one discerns is the case with most of the people we encounter.&lt;br /&gt;&lt;br /&gt;The acting is good under Mr. Mattei's direction. Steve Buscemi, Rosario Dawson, Carol Kane, Michael Imperioli, Adrian Grenier, and the rest of the talented cast, make these characters come alive.&lt;br /&gt;&lt;br /&gt;We wish Mr. Mattei good luck and await anxiously for his next work.</td>\n",
       "      <td>positive</td>\n",
       "      <td>1</td>\n",
       "    </tr>\n",
       "  </tbody>\n",
       "</table>\n",
       "</div>"
      ],
      "text/plain": [
       "   Unnamed: 0  \\\n",
       "0           0   \n",
       "1           1   \n",
       "2           2   \n",
       "3           3   \n",
       "4           4   \n",
       "\n",
       "                                                                                                                                                                                                                                                                                                                                                                                                                                                                                                                                                                                                                                                                                                                                                                                                                                                                                                                                                                                                                                                                                                                                                                                                                                                                                                                                                                                                                                                                                                                                                                                                                                                                                                                                                                                                                              review  \\\n",
       "0  One of the other reviewers has mentioned that after watching just 1 Oz episode you'll be hooked. They are right, as this is exactly what happened with me.<br /><br />The first thing that struck me about Oz was its brutality and unflinching scenes of violence, which set in right from the word GO. Trust me, this is not a show for the faint hearted or timid. This show pulls no punches with regards to drugs, sex or violence. Its is hardcore, in the classic use of the word.<br /><br />It is called OZ as that is the nickname given to the Oswald Maximum Security State Penitentary. It focuses mainly on Emerald City, an experimental section of the prison where all the cells have glass fronts and face inwards, so privacy is not high on the agenda. Em City is home to many..Aryans, Muslims, gangstas, Latinos, Christians, Italians, Irish and more....so scuffles, death stares, dodgy dealings and shady agreements are never far away.<br /><br />I would say the main appeal of the show is due to the fact that it goes where other shows wouldn't dare. Forget pretty pictures painted for mainstream audiences, forget charm, forget romance...OZ doesn't mess around. The first episode I ever saw struck me as so nasty it was surreal, I couldn't say I was ready for it, but as I watched more, I developed a taste for Oz, and got accustomed to the high levels of graphic violence. Not just violence, but injustice (crooked guards who'll be sold out for a nickel, inmates who'll kill on order and get away with it, well mannered, middle class inmates being turned into prison bitches due to their lack of street skills or prison experience) Watching Oz, you may become comfortable with what is uncomfortable viewing....thats if you can get in touch with your darker side.   \n",
       "1                                                                                                                                                                                                                                                                                                                                                                                                                                                                                                                                                                                                                                                                                                                                                                                             A wonderful little production. <br /><br />The filming technique is very unassuming- very old-time-BBC fashion and gives a comforting, and sometimes discomforting, sense of realism to the entire piece. <br /><br />The actors are extremely well chosen- Michael Sheen not only \"has got all the polari\" but he has all the voices down pat too! You can truly see the seamless editing guided by the references to Williams' diary entries, not only is it well worth the watching but it is a terrificly written and performed piece. A masterful production about one of the great master's of comedy and his life. <br /><br />The realism really comes home with the little things: the fantasy of the guard which, rather than use the traditional 'dream' techniques remains solid then disappears. It plays on our knowledge and our senses, particularly with the scenes concerning Orton and Halliwell and the sets (particularly of their flat with Halliwell's murals decorating every surface) are terribly well done.   \n",
       "2                                                                                                                                                                                                                                                                                                                                                                                                                                                                                                                                                                                                                                                                                                                                                                                                                                                                     I thought this was a wonderful way to spend time on a too hot summer weekend, sitting in the air conditioned theater and watching a light-hearted comedy. The plot is simplistic, but the dialogue is witty and the characters are likable (even the well bread suspected serial killer). While some may be disappointed when they realize this is not Match Point 2: Risk Addiction, I thought it was proof that Woody Allen is still fully in control of the style many of us have grown to love.<br /><br />This was the most I'd laughed at one of Woody's comedies in years (dare I say a decade?). While I've never been impressed with Scarlet Johanson, in this she managed to tone down her \"sexy\" image and jumped right into a average, but spirited young woman.<br /><br />This may not be the crown jewel of his career, but it was wittier than \"Devil Wears Prada\" and more interesting than \"Superman\" a great comedy to go see with friends.   \n",
       "3                                                                                                                                                                                                                                                                                                                                                                                                                                                                                                                                                                                                                                                                                                                                                                                                                                                                                                                                                                                                                                                       Basically there's a family where a little boy (Jake) thinks there's a zombie in his closet & his parents are fighting all the time.<br /><br />This movie is slower than a soap opera... and suddenly, Jake decides to become Rambo and kill the zombie.<br /><br />OK, first of all when you're going to make a film you must Decide if its a thriller or a drama! As a drama the movie is watchable. Parents are divorcing & arguing like in real life. And then we have Jake with his closet which totally ruins all the film! I expected to see a BOOGEYMAN similar movie, and instead i watched a drama with some meaningless thriller spots.<br /><br />3 out of 10 just for the well playing parents & descent dialogs. As for the shots with Jake: just ignore them.   \n",
       "4                                                                                                                                                                                                                                                                                                                                                                                                                                                              Petter Mattei's \"Love in the Time of Money\" is a visually stunning film to watch. Mr. Mattei offers us a vivid portrait about human relations. This is a movie that seems to be telling us what money, power and success do to people in the different situations we encounter. <br /><br />This being a variation on the Arthur Schnitzler's play about the same theme, the director transfers the action to the present time New York where all these different characters meet and connect. Each one is connected in one way, or another to the next person, but no one seems to know the previous point of contact. Stylishly, the film has a sophisticated luxurious look. We are taken to see how these people live and the world they live in their own habitat.<br /><br />The only thing one gets out of all these souls in the picture is the different stages of loneliness each one inhabits. A big city is not exactly the best place in which human relations find sincere fulfillment, as one discerns is the case with most of the people we encounter.<br /><br />The acting is good under Mr. Mattei's direction. Steve Buscemi, Rosario Dawson, Carol Kane, Michael Imperioli, Adrian Grenier, and the rest of the talented cast, make these characters come alive.<br /><br />We wish Mr. Mattei good luck and await anxiously for his next work.   \n",
       "\n",
       "  sentiment  label  \n",
       "0  positive      1  \n",
       "1  positive      1  \n",
       "2  positive      1  \n",
       "3  negative      0  \n",
       "4  positive      1  "
      ]
     },
     "execution_count": 26,
     "metadata": {},
     "output_type": "execute_result"
    }
   ],
   "source": [
    "data.head(5)"
   ]
  },
  {
   "cell_type": "markdown",
   "id": "1cbd4389",
   "metadata": {},
   "source": [
    "The dataset has 4 columns 'unnamed', 'review', 'sentiment', 'label'\n",
    "the unnamed column does not give any information and can be disregarded"
   ]
  },
  {
   "cell_type": "code",
   "execution_count": 27,
   "id": "370f79c4",
   "metadata": {
    "scrolled": true
   },
   "outputs": [
    {
     "data": {
      "text/plain": [
       "sentiment\n",
       "positive    25000\n",
       "negative    25000\n",
       "Name: count, dtype: int64"
      ]
     },
     "execution_count": 27,
     "metadata": {},
     "output_type": "execute_result"
    }
   ],
   "source": [
    "# check the number of postive and negative reviews\n",
    "data.sentiment.value_counts()"
   ]
  },
  {
   "cell_type": "code",
   "execution_count": 28,
   "id": "67537e29",
   "metadata": {},
   "outputs": [
    {
     "name": "stderr",
     "output_type": "stream",
     "text": [
      "C:\\Users\\jingy\\AppData\\Local\\Temp\\ipykernel_20428\\1302402582.py:2: FutureWarning: pandas.value_counts is deprecated and will be removed in a future version. Use pd.Series(obj).value_counts() instead.\n",
      "  count_Class = pd.value_counts(data.label, sort=True)\n"
     ]
    },
    {
     "data": {
      "image/png": "[encoded data removed]",
      "text/plain": [
       "<Figure size 640x480 with 1 Axes>"
      ]
     },
     "metadata": {},
     "output_type": "display_data"
    }
   ],
   "source": [
    "# visualise the distribution of labels in the dataset in bar plots\n",
    "count_Class = pd.value_counts(data.label, sort=True)\n",
    "count_Class.plot(kind = 'bar', color = ['blue', 'yellow'])\n",
    "plt.title(\"Bar Plot for Labels\")\n",
    "plt.show()"
   ]
  },
  {
   "cell_type": "markdown",
   "id": "090e2793",
   "metadata": {},
   "source": [
    "# 2. Data Preprocessing"
   ]
  },
  {
   "cell_type": "markdown",
   "id": "190169d1",
   "metadata": {},
   "source": [
    "The purpose of data preprocessing is to prepare data for building BiLSTM models. Data preprocessing improves accuracy and reliability of models by removing inconsistent or missing data."
   ]
  },
  {
   "cell_type": "markdown",
   "id": "15bca2cb",
   "metadata": {},
   "source": [
    "### Text Preprocessing\n",
    "remove noises in the data, numbers, hashtags, punctuations, lowercase all characters, demoji, remove stopwords and lemmatize texts"
   ]
  },
  {
   "cell_type": "code",
   "execution_count": 29,
   "id": "0b854569",
   "metadata": {},
   "outputs": [],
   "source": [
    "# spacy for lemmatization\n",
    "import spacy\n",
    "nlp = spacy.load('en_core_web_sm', disable=['parser', 'ner'])\n",
    "# nltk for removing stop words\n",
    "stopwords = nltk.corpus.stopwords.words('english')\n",
    "\n",
    "def preprocess(text):\n",
    "    #1. Generating the list of words in the tweet (hastags and other punctuations removed)\n",
    "    text_blob = TextBlob(text)\n",
    "    text = ' '.join(text_blob.words)\n",
    "    #2. clean the number \n",
    "    text = re.sub(r'[0-9]', '', text)\n",
    "    #3. lower the text\n",
    "    text = text.lower()\n",
    "    #4. conver the emoji to text form\n",
    "    text = emoji.demojize(text)\n",
    "    #5. remove punctuation \n",
    "    for punctuation in string.punctuation:\n",
    "        text = text.replace(punctuation, '')\n",
    "    #6. tokenize the text\n",
    "    text = word_tokenize(text)\n",
    "    #7. remove empty token\n",
    "    text = [t for t in text if len(t) > 0]\n",
    "    #8. remove non-alphabetical token\n",
    "    text = [t for t in text if t.isalpha()]\n",
    "    #9. replace the negation token\n",
    "    replacer  = AntonymReplacer()\n",
    "    text = replacer.replace_negations(text)\n",
    "    #10. remove the stopwords\n",
    "    text = [i for i in text if i not in stopwords]\n",
    "    #11. lemmatize the text\n",
    "    text = lemmatization(text, allowed_postags=['NOUN', 'ADJ', 'VERB', 'ADV'])\n",
    "    return \" \".join(text)\n",
    "\n",
    "\n",
    "def lemmatization(sent, allowed_postags=['NOUN', 'ADJ', 'VERB', 'ADV']):\n",
    "    doc = nlp(\" \".join(sent)) \n",
    "    texts_out = [token.lemma_ for token in doc if token.pos_ in allowed_postags]\n",
    "    return texts_out\n",
    "\n",
    "class AntonymReplacer(object):\n",
    "    def replace(self, word, pos=None):\n",
    "        antonyms = set()\n",
    "\n",
    "        for syn in wordnet.synsets(word, pos=pos):\n",
    "            for lemma in syn.lemmas():\n",
    "                for antonym in lemma.antonyms():\n",
    "                    antonyms.add(antonym.name())\n",
    "\n",
    "        if len(antonyms) == 1:\n",
    "            return antonyms.pop()\n",
    "        else:\n",
    "            return None\n",
    "\n",
    "    def replace_negations(self, sent):\n",
    "        i, l = 0, len(sent)\n",
    "        words = []\n",
    "\n",
    "        while i < l:\n",
    "            word = sent[i]\n",
    "\n",
    "            if word == 'not' and i+1 < l:\n",
    "                ant = self.replace(sent[i+1])\n",
    "\n",
    "                if ant:\n",
    "                    words.append(ant)\n",
    "                    i += 2\n",
    "                    continue\n",
    "\n",
    "            words.append(word)\n",
    "            i += 1\n",
    "\n",
    "        return words"
   ]
  },
  {
   "cell_type": "code",
   "execution_count": 30,
   "id": "63afb6c5",
   "metadata": {
    "scrolled": true
   },
   "outputs": [
    {
     "name": "stdout",
     "output_type": "stream",
     "text": [
      "CPU times: total: 7min 10s\n",
      "Wall time: 7min 12s\n"
     ]
    }
   ],
   "source": [
    "%%time\n",
    "# preprocess data\n",
    "data['clean'] = data['review'].apply(lambda rev : preprocess(rev))"
   ]
  },
  {
   "cell_type": "markdown",
   "id": "623ba373",
   "metadata": {},
   "source": [
    "### 2.2 Check Processed Data"
   ]
  },
  {
   "cell_type": "code",
   "execution_count": 31,
   "id": "b0bd38f1",
   "metadata": {
    "scrolled": true
   },
   "outputs": [
    {
     "data": {
      "text/plain": [
       "'A wonderful little production. <br /><br />The filming technique is very unassuming- very old-time-BBC fashion and gives a comforting, and sometimes discomforting, sense of realism to the entire piece. <br /><br />The actors are extremely well chosen- Michael Sheen not only \"has got all the polari\" but he has all the voices down pat too! You can truly see the seamless editing guided by the references to Williams\\' diary entries, not only is it well worth the watching but it is a terrificly written and performed piece. A masterful production about one of the great master\\'s of comedy and his life. <br /><br />The realism really comes home with the little things: the fantasy of the guard which, rather than use the traditional \\'dream\\' techniques remains solid then disappears. It plays on our knowledge and our senses, particularly with the scenes concerning Orton and Halliwell and the sets (particularly of their flat with Halliwell\\'s murals decorating every surface) are terribly well done.'"
      ]
     },
     "execution_count": 31,
     "metadata": {},
     "output_type": "execute_result"
    }
   ],
   "source": [
    "pd.set_option(\"max_colwidth\", None)\n",
    "data.review[1]"
   ]
  },
  {
   "cell_type": "code",
   "execution_count": 32,
   "id": "0184c61a",
   "metadata": {},
   "outputs": [
    {
     "data": {
      "text/plain": [
       "'wonderful little production br br film technique unassume oldtimebbc fashion give comforting sometimes discomforte sense realism entire piece actor extremely well choose get polari voice pat truly see seamless editing guide reference diary entry well worth watch terrificly write perform piece masterful production great master comedy life br really come home little thing fantasy guard rather use traditional dream technique remain solid disappear play knowledge sense particularly scene concern set particularly flat halliwell mural decorate surface terribly well do'"
      ]
     },
     "execution_count": 32,
     "metadata": {},
     "output_type": "execute_result"
    }
   ],
   "source": [
    "# data after preprocessing\n",
    "data.clean[1]"
   ]
  },
  {
   "cell_type": "markdown",
   "id": "3051e6a8",
   "metadata": {},
   "source": [
    "We can see that, after text preprocessing, the number of words have been reduced, punctuations are removed, and all words are lowercased."
   ]
  },
  {
   "cell_type": "markdown",
   "id": "5e2d8e34",
   "metadata": {},
   "source": [
    "### 2.3 Split dataset into training and testing dataset"
   ]
  },
  {
   "cell_type": "code",
   "execution_count": 33,
   "id": "03fa9902",
   "metadata": {},
   "outputs": [],
   "source": [
    "# split data into train and test set\n",
    "X = data['review'].values\n",
    "y = data['sentiment'].values\n",
    "X_train, X_test, y_train, y_test = train_test_split(X, y, test_size=0.20, random_state=42)"
   ]
  },
  {
   "cell_type": "markdown",
   "id": "ffe3c6d3",
   "metadata": {},
   "source": [
    "# 3. Tokenization "
   ]
  },
  {
   "cell_type": "code",
   "execution_count": 34,
   "id": "c61450ef",
   "metadata": {},
   "outputs": [],
   "source": [
    "tokenizer = Tokenizer()\n",
    "tokenizer.fit_on_texts(data['clean'])"
   ]
  },
  {
   "cell_type": "code",
   "execution_count": 35,
   "id": "e89159e9",
   "metadata": {},
   "outputs": [
    {
     "name": "stdout",
     "output_type": "stream",
     "text": [
      "After converting our words in the corpus into vector of integers:\n",
      "\n",
      "Vector of words of the first review :\n",
      "[951, 299, 11, 148, 1512, 98, 429, 81, 31, 32, 851, 3562, 9370, 18, 408, 82, 98, 219, 9, 1256, 17, 4141, 3917, 9550, 17, 460, 1395, 848, 526, 252, 408, 2865, 189, 53, 219, 127, 5822, 27, 14986, 4603, 1876, 537, 33677, 482, 1019, 1540, 873, 1527, 1482, 713, 173, 16950, 10365, 163, 3321, 465, 226, 39, 11704, 754, 1895, 15610, 180, 1644, 5934, 6259, 5633, 5380, 40, 114, 208, 21, 157, 644, 17, 477, 80, 9, 17, 1270, 319, 79, 213, 1036, 1815, 136, 319, 896, 319, 587, 4698, 579, 31, 148, 49, 3, 851, 1129, 1585, 21, 1210, 11, 534, 795, 6, 11392, 163, 375, 1040, 408, 408, 4264, 3342, 1703, 727, 16222, 3604, 88, 372, 6, 8, 7320, 695, 513, 3604, 75, 873, 3400, 477, 222, 656, 959, 873, 284, 11, 4698, 71, 2580, 2250, 2054, 6, 389, 364, 301]\n"
     ]
    }
   ],
   "source": [
    "sequences = tokenizer.texts_to_sequences(data.clean)\n",
    "print(\"After converting our words in the corpus into vector of integers:\\n\")\n",
    "print(\"Vector of words of the first review :\")\n",
    "print(sequences[0])"
   ]
  },
  {
   "cell_type": "code",
   "execution_count": 36,
   "id": "2d327680",
   "metadata": {},
   "outputs": [
    {
     "name": "stdout",
     "output_type": "stream",
     "text": [
      "Total words 89902\n"
     ]
    }
   ],
   "source": [
    "vocab_size = len(tokenizer.word_index) + 1\n",
    "print(\"Total words\", vocab_size)"
   ]
  },
  {
   "cell_type": "code",
   "execution_count": 37,
   "id": "064fc7f2",
   "metadata": {},
   "outputs": [],
   "source": [
    "encoded_X_train = tokenizer.texts_to_sequences(X_train)\n",
    "encoded_X_test = tokenizer.texts_to_sequences(X_test)"
   ]
  },
  {
   "cell_type": "code",
   "execution_count": 38,
   "id": "39422ad0",
   "metadata": {},
   "outputs": [
    {
     "data": {
      "text/plain": [
       "array([[    0,     0,     0, ...,  7812, 38863,    48],\n",
       "       [    0,     0,     0, ...,  1282, 21518,    11],\n",
       "       [    0,     0,     0, ..., 23304, 14162,    14],\n",
       "       ...,\n",
       "       [    0,     0,     0, ...,   831, 23304,  4414],\n",
       "       [    0,     0,     0, ...,   169,    11,  9620],\n",
       "       [    0,     0,     0, ...,   286,    22,  7611]])"
      ]
     },
     "execution_count": 38,
     "metadata": {},
     "output_type": "execute_result"
    }
   ],
   "source": [
    "# when maxlen is set to 300, sentences which are shorter than length 300 will have 0 values added to it, \n",
    "# so every sentences will have length of 300\n",
    "# maximum sentence length is capped at 300, if exceeded sentence will be pruned to length 300\n",
    "SEQUENCE_LENGTH = 300\n",
    "padded_X_train = pad_sequences(encoded_X_train, maxlen=SEQUENCE_LENGTH)\n",
    "padded_X_test = pad_sequences(encoded_X_test, maxlen=SEQUENCE_LENGTH)\n",
    "\n",
    "padded_X_train"
   ]
  },
  {
   "cell_type": "code",
   "execution_count": 39,
   "id": "769fab70",
   "metadata": {},
   "outputs": [
    {
     "data": {
      "text/plain": [
       "(40000, 300)"
      ]
     },
     "execution_count": 39,
     "metadata": {},
     "output_type": "execute_result"
    }
   ],
   "source": [
    "# shape of training data,  number of column will be 300 as every review will have length of 300\n",
    "padded_X_train.shape"
   ]
  },
  {
   "cell_type": "code",
   "execution_count": 40,
   "id": "fae05d06",
   "metadata": {},
   "outputs": [],
   "source": [
    "# save tokenizer to be used later on\n",
    "tokenizer_file = 'tokenizer.sav'\n",
    "pickle.dump(tokenizer, open(tokenizer_file, 'wb'))"
   ]
  },
  {
   "cell_type": "code",
   "execution_count": 41,
   "id": "2f1b707e",
   "metadata": {},
   "outputs": [
    {
     "data": {
      "text/plain": [
       "['positive', 'negative', 'neutral']"
      ]
     },
     "execution_count": 41,
     "metadata": {},
     "output_type": "execute_result"
    }
   ],
   "source": [
    "# add neutral into the labels\n",
    "labels = data.sentiment.unique().tolist()\n",
    "labels.append(\"neutral\")\n",
    "labels"
   ]
  },
  {
   "cell_type": "code",
   "execution_count": 42,
   "id": "8fd516a5",
   "metadata": {},
   "outputs": [],
   "source": [
    "# change positive and negative into 1 and 0\n",
    "encoder = LabelEncoder()\n",
    "encoder.fit(data.sentiment.tolist())\n",
    "\n",
    "y_train = encoder.transform(y_train.tolist()) \n",
    "y_test = encoder.transform(y_test.tolist())\n",
    "\n",
    "y_train = y_train.reshape(-1,1)\n",
    "y_test = y_test.reshape(-1,1)"
   ]
  },
  {
   "cell_type": "code",
   "execution_count": 43,
   "id": "652d5c85",
   "metadata": {
    "scrolled": true
   },
   "outputs": [
    {
     "name": "stdout",
     "output_type": "stream",
     "text": [
      "x_train (40000, 300)\n",
      "y_train (40000, 1)\n",
      "\n",
      "x_test (10000, 300)\n",
      "y_test (10000, 1)\n"
     ]
    }
   ],
   "source": [
    "print(\"x_train\", padded_X_train.shape)\n",
    "print(\"y_train\", y_train.shape)\n",
    "print()\n",
    "print(\"x_test\", padded_X_test.shape)\n",
    "print(\"y_test\", y_test.shape)"
   ]
  },
  {
   "cell_type": "markdown",
   "id": "00d383d2",
   "metadata": {},
   "source": [
    "# Part 1"
   ]
  },
  {
   "cell_type": "markdown",
   "id": "5877f1b6",
   "metadata": {},
   "source": [
    "# 4. Word2Vec model 1 (CBOW)"
   ]
  },
  {
   "cell_type": "code",
   "execution_count": 56,
   "id": "a43b60f3",
   "metadata": {},
   "outputs": [],
   "source": [
    "# params for word2vec model\n",
    "# w2v size must be same as number of columns of dataset\n",
    "W2V_SIZE = 300\n",
    "BATCH_SIZE = 1024"
   ]
  },
  {
   "cell_type": "code",
   "execution_count": 45,
   "id": "64385bbb",
   "metadata": {},
   "outputs": [
    {
     "name": "stdout",
     "output_type": "stream",
     "text": [
      "There are a total of 50000\n"
     ]
    }
   ],
   "source": [
    "# check the number of reviews\n",
    "documents = [_text.split() for _text in data.review]\n",
    "\n",
    "print(f\"There are a total of {len(documents)}\")"
   ]
  },
  {
   "cell_type": "code",
   "execution_count": 41,
   "id": "d3593ca2",
   "metadata": {},
   "outputs": [
    {
     "name": "stdout",
     "output_type": "stream",
     "text": [
      "Wall time: 1min 11s\n"
     ]
    }
   ],
   "source": [
    "%%time\n",
    "# Create CBOW model\n",
    "# for CBOW, will he using sg=0\n",
    "model1 = gensim.models.Word2Vec(documents, min_count = 10, vector_size = W2V_SIZE, window = 5, sg=0, hs = 1, negative=0)"
   ]
  },
  {
   "cell_type": "code",
   "execution_count": 42,
   "id": "d41ebe15",
   "metadata": {},
   "outputs": [
    {
     "name": "stdout",
     "output_type": "stream",
     "text": [
      "Cosine similarity between 'violence' and 'drug' - CBOW :  0.29171097\n",
      "\n",
      "Cosine similarity between 'drugs' and 'alcohol' - CBOW :  0.35892326\n",
      "\n",
      "Cosine similarity between 'violence' and 'kindness' - CBOW :  0.19055548\n"
     ]
    }
   ],
   "source": [
    "# Print some cosine similarity results of tokens in the vocabulary\n",
    "print(\"Cosine similarity between 'violence' \" + \"and 'drug' - CBOW : \", model1.wv.similarity('violence', 'drugs'))\n",
    "\n",
    "print(\"\\nCosine similarity between 'drugs' \" + \"and 'alcohol' - CBOW : \", model1.wv.similarity('drug', 'alcohol'))\n",
    "\n",
    "print(\"\\nCosine similarity between 'violence' \" + \"and 'kindness' - CBOW : \", model1.wv.similarity('violence', 'kindness'))"
   ]
  },
  {
   "cell_type": "code",
   "execution_count": 43,
   "id": "aeae2280",
   "metadata": {},
   "outputs": [
    {
     "name": "stdout",
     "output_type": "stream",
     "text": [
      "[('drugs,', 0.6361526250839233), ('alcohol', 0.4694453775882721), ('prostitutes', 0.4278550446033478), ('hippies', 0.4248656630516052), ('drug', 0.42100954055786133), ('animals', 0.4000183045864105), ('prostitution', 0.3882197439670563), ('humans', 0.38740891218185425), ('convicts', 0.3863775134086609), ('abuse', 0.38533318042755127)]\n"
     ]
    }
   ],
   "source": [
    "#Get most similar words with 'drugs' - CBOW\n",
    "similar_words1 = model1.wv.most_similar('drugs')\n",
    "print(similar_words1)"
   ]
  },
  {
   "cell_type": "markdown",
   "id": "f8d9ec2a",
   "metadata": {},
   "source": [
    "# 5. Embedding Layer"
   ]
  },
  {
   "cell_type": "markdown",
   "id": "419b059f",
   "metadata": {},
   "source": [
    "Embedding layer is "
   ]
  },
  {
   "cell_type": "code",
   "execution_count": 44,
   "id": "9fad43bb",
   "metadata": {},
   "outputs": [
    {
     "name": "stdout",
     "output_type": "stream",
     "text": [
      "(89902, 300)\n"
     ]
    }
   ],
   "source": [
    "embedding_matrix = np.zeros((vocab_size, W2V_SIZE))\n",
    "for word, i in tokenizer.word_index.items():\n",
    "    if word in model1.wv:\n",
    "        embedding_matrix[i] = model1.wv[word]\n",
    "print(embedding_matrix.shape)"
   ]
  },
  {
   "cell_type": "code",
   "execution_count": 45,
   "id": "c079488f",
   "metadata": {},
   "outputs": [],
   "source": [
    "embedding_layer = Embedding(vocab_size, W2V_SIZE, weights=[embedding_matrix], input_length=SEQUENCE_LENGTH, trainable=False)"
   ]
  },
  {
   "cell_type": "markdown",
   "id": "a37ac17d",
   "metadata": {},
   "source": [
    "# 6. Building BiLSTM Model using CBOW"
   ]
  },
  {
   "cell_type": "code",
   "execution_count": 46,
   "id": "82b6c575",
   "metadata": {},
   "outputs": [
    {
     "name": "stdout",
     "output_type": "stream",
     "text": [
      "Model: \"sequential_1\"\n",
      "_________________________________________________________________\n",
      " Layer (type)                Output Shape              Param #   \n",
      "=================================================================\n",
      " embedding (Embedding)       (None, 300, 300)          26970600  \n",
      "                                                                 \n",
      " bidirectional (Bidirectiona  (None, 200)              320800    \n",
      " l)                                                              \n",
      "                                                                 \n",
      " dropout (Dropout)           (None, 200)               0         \n",
      "                                                                 \n",
      " dense (Dense)               (None, 1)                 201       \n",
      "                                                                 \n",
      "=================================================================\n",
      "Total params: 27,291,601\n",
      "Trainable params: 321,001\n",
      "Non-trainable params: 26,970,600\n",
      "_________________________________________________________________\n",
      "None\n"
     ]
    }
   ],
   "source": [
    "cbow_model = Sequential()\n",
    "cbow_model.add(embedding_layer)\n",
    "cbow_model.add(Bidirectional(LSTM(100)))\n",
    "cbow_model.add(Dropout(0.5))\n",
    "cbow_model.add(Dense(1, activation='sigmoid'))\n",
    "# compile BiLSTM model\n",
    "cbow_model.compile(loss='binary_crossentropy', optimizer='adam', metrics=['accuracy']) \n",
    "\n",
    "# summarize the model\n",
    "print(cbow_model.summary())"
   ]
  },
  {
   "cell_type": "code",
   "execution_count": 47,
   "id": "c362f4be",
   "metadata": {},
   "outputs": [
    {
     "name": "stdout",
     "output_type": "stream",
     "text": [
      "layer :  embedding , expects input  of shape :  (None, 300)\n",
      "layer :  bidirectional , expects input  of shape :  (None, 300, 300)\n",
      "layer :  dropout , expects input  of shape :  (None, 200)\n",
      "layer :  dense , expects input  of shape :  (None, 200)\n"
     ]
    }
   ],
   "source": [
    "# check the input and output dimension of each layer\n",
    "for l in cbow_model.layers:\n",
    "    print(\"layer : \", l.name, \", expects input  of shape : \",l.input_shape)"
   ]
  },
  {
   "cell_type": "markdown",
   "id": "0444d7f2",
   "metadata": {},
   "source": [
    "### 6.1 Train  Model"
   ]
  },
  {
   "cell_type": "code",
   "execution_count": 58,
   "id": "35608558",
   "metadata": {},
   "outputs": [],
   "source": [
    "callbacks = [ ReduceLROnPlateau(monitor='val_loss', patience=5, cooldown=0),\n",
    "              EarlyStopping(monitor='val_accuracy', min_delta=1e-4, patience=5)] #change 'val_acc' to 'val_accuracy'"
   ]
  },
  {
   "cell_type": "code",
   "execution_count": 49,
   "id": "55ce5fba",
   "metadata": {},
   "outputs": [
    {
     "name": "stdout",
     "output_type": "stream",
     "text": [
      "Epoch 1/32\n",
      "2500/2500 [==============================] - 335s 133ms/step - loss: 0.4307 - accuracy: 0.8111 - val_loss: 0.3191 - val_accuracy: 0.8651 - lr: 0.0010\n",
      "Epoch 2/32\n",
      "2500/2500 [==============================] - 223s 89ms/step - loss: 0.2929 - accuracy: 0.8806 - val_loss: 0.2670 - val_accuracy: 0.8878 - lr: 0.0010\n",
      "Epoch 3/32\n",
      "2500/2500 [==============================] - 203s 81ms/step - loss: 0.2592 - accuracy: 0.8964 - val_loss: 0.2632 - val_accuracy: 0.8935 - lr: 0.0010\n",
      "Epoch 4/32\n",
      "2500/2500 [==============================] - 207s 83ms/step - loss: 0.2274 - accuracy: 0.9115 - val_loss: 0.2568 - val_accuracy: 0.8939 - lr: 0.0010\n",
      "Epoch 5/32\n",
      "2500/2500 [==============================] - 213s 85ms/step - loss: 0.1963 - accuracy: 0.9257 - val_loss: 0.2890 - val_accuracy: 0.8875 - lr: 0.0010\n",
      "Epoch 6/32\n",
      "2500/2500 [==============================] - 217s 87ms/step - loss: 0.1671 - accuracy: 0.9365 - val_loss: 0.2692 - val_accuracy: 0.8934 - lr: 0.0010\n",
      "Epoch 7/32\n",
      "2500/2500 [==============================] - 218s 87ms/step - loss: 0.1431 - accuracy: 0.9454 - val_loss: 0.2867 - val_accuracy: 0.8900 - lr: 0.0010\n",
      "Epoch 8/32\n",
      "2500/2500 [==============================] - 222s 89ms/step - loss: 0.1387 - accuracy: 0.9487 - val_loss: 0.3103 - val_accuracy: 0.8899 - lr: 0.0010\n",
      "Epoch 9/32\n",
      "2500/2500 [==============================] - 222s 89ms/step - loss: 0.1060 - accuracy: 0.9610 - val_loss: 0.3502 - val_accuracy: 0.8897 - lr: 0.0010\n"
     ]
    }
   ],
   "source": [
    "EPOCHS = 32\n",
    "BATCH_SIZE = 1024\n",
    "\n",
    "# fit the model\n",
    "history = cbow_model.fit(x=padded_X_train,\n",
    "                         y=y_train,\n",
    "                         batch_size=16,\n",
    "                         epochs=10,\n",
    "                         validation_data=(padded_X_test, y_test), \n",
    "                         verbose=1,\n",
    "                         callbacks=callbacks\n",
    "                         )"
   ]
  },
  {
   "cell_type": "code",
   "execution_count": 99,
   "id": "63b8f20f",
   "metadata": {},
   "outputs": [
    {
     "name": "stderr",
     "output_type": "stream",
     "text": [
      "WARNING:absl:Found untraced functions such as lstm_cell_1_layer_call_fn, lstm_cell_1_layer_call_and_return_conditional_losses, lstm_cell_2_layer_call_fn, lstm_cell_2_layer_call_and_return_conditional_losses while saving (showing 4 of 4). These functions will not be directly callable after loading.\n"
     ]
    },
    {
     "name": "stdout",
     "output_type": "stream",
     "text": [
      "INFO:tensorflow:Assets written to: CBOW_BiLSTM.sav\\assets\n"
     ]
    },
    {
     "name": "stderr",
     "output_type": "stream",
     "text": [
      "INFO:tensorflow:Assets written to: CBOW_BiLSTM.sav\\assets\n",
      "WARNING:absl:<keras.layers.recurrent.LSTMCell object at 0x0000029B2D4FB910> has the same name 'LSTMCell' as a built-in Keras object. Consider renaming <class 'keras.layers.recurrent.LSTMCell'> to avoid naming conflicts when loading with `tf.keras.models.load_model`. If renaming is not possible, pass the object in the `custom_objects` parameter of the load function.\n",
      "WARNING:absl:<keras.layers.recurrent.LSTMCell object at 0x0000029B2E07CBB0> has the same name 'LSTMCell' as a built-in Keras object. Consider renaming <class 'keras.layers.recurrent.LSTMCell'> to avoid naming conflicts when loading with `tf.keras.models.load_model`. If renaming is not possible, pass the object in the `custom_objects` parameter of the load function.\n"
     ]
    }
   ],
   "source": [
    "#save model\n",
    "cbow_model.save('CBOW_BiLSTM.sav')\n",
    "model1.save('CBOW_model')\n",
    "pickle.dump(tokenizer, open('BiLSTM_tokenizer.pkl', \"wb\"), protocol=0)\n",
    "pickle.dump(encoder, open('encoder.pkl', \"wb\"), protocol=0)"
   ]
  },
  {
   "cell_type": "markdown",
   "id": "bea420ce",
   "metadata": {},
   "source": [
    "# 7. Model Evaluation"
   ]
  },
  {
   "cell_type": "markdown",
   "id": "d6dab150",
   "metadata": {},
   "source": [
    "To evaluate BiLSTM model, we will be using classification report which shows the accuracy, confusion matrix and accuracy and loss graph"
   ]
  },
  {
   "cell_type": "code",
   "execution_count": 66,
   "id": "a6c0bbb5",
   "metadata": {},
   "outputs": [],
   "source": [
    "def c_report(y_true, y_pred):\n",
    "    print(\"Classification Report\")\n",
    "    print(classification_report(y_true, y_pred))\n",
    "\n",
    "\n",
    "def plot_confusion_matrix(y_true, y_pred):\n",
    "    mtx = confusion_matrix(y_true, y_pred)\n",
    "    sns.heatmap(mtx, annot=True, fmt='d', linewidths=.5, cmap=\"Blues\", cbar=False)\n",
    "    plt.ylabel('True label')\n",
    "    plt.xlabel('Predicted label')"
   ]
  },
  {
   "cell_type": "code",
   "execution_count": 51,
   "id": "4395bbe7",
   "metadata": {},
   "outputs": [],
   "source": [
    "cbow_preds = (cbow_model.predict(padded_X_test) > 0.5)"
   ]
  },
  {
   "cell_type": "code",
   "execution_count": 52,
   "id": "9e4cee33",
   "metadata": {},
   "outputs": [
    {
     "name": "stdout",
     "output_type": "stream",
     "text": [
      "Classification Report\n",
      "              precision    recall  f1-score   support\n",
      "\n",
      "           0       0.88      0.90      0.89      4961\n",
      "           1       0.90      0.88      0.89      5039\n",
      "\n",
      "    accuracy                           0.89     10000\n",
      "   macro avg       0.89      0.89      0.89     10000\n",
      "weighted avg       0.89      0.89      0.89     10000\n",
      "\n"
     ]
    }
   ],
   "source": [
    "c_report(y_test, cbow_preds)"
   ]
  },
  {
   "cell_type": "code",
   "execution_count": 53,
   "id": "ceb9b618",
   "metadata": {
    "scrolled": true
   },
   "outputs": [
    {
     "data": {
      "image/png": "[encoded data removed]",
      "text/plain": [
       "<Figure size 432x288 with 1 Axes>"
      ]
     },
     "metadata": {
      "needs_background": "light"
     },
     "output_type": "display_data"
    }
   ],
   "source": [
    "plot_confusion_matrix(y_test, cbow_preds)"
   ]
  },
  {
   "cell_type": "markdown",
   "id": "adfb7b86",
   "metadata": {},
   "source": [
    "Number of correctly predicted sentiments is 4476 + 4421, and the total number of sentiments predicted is 10000.\n",
    "\n",
    "The accuracy is number of correctly predicted sentiments / total number of sentiments predicted,\n",
    "8897/10000 = 0.8897"
   ]
  },
  {
   "cell_type": "code",
   "execution_count": 54,
   "id": "28e22d72",
   "metadata": {},
   "outputs": [
    {
     "name": "stdout",
     "output_type": "stream",
     "text": [
      "625/625 [==============================] - 22s 36ms/step - loss: 0.3502 - accuracy: 0.8897\n",
      "\n",
      " [0.350180059671402, 0.8896999955177307]\n",
      "ACCURACY: 0.8896999955177307\n",
      "LOSS: 0.350180059671402\n",
      "Wall time: 22.3 s\n"
     ]
    }
   ],
   "source": [
    "%%time\n",
    "cbow_score = cbow_model.evaluate(padded_X_test, y_test, batch_size=16)\n",
    "print(\"\\n\", cbow_score)\n",
    "print(\"ACCURACY:\",cbow_score[1])\n",
    "print(\"LOSS:\",cbow_score[0])"
   ]
  },
  {
   "cell_type": "code",
   "execution_count": 55,
   "id": "dcfc239c",
   "metadata": {},
   "outputs": [
    {
     "data": {
      "image/png": "[encoded data removed]",
      "text/plain": [
       "<Figure size 432x288 with 1 Axes>"
      ]
     },
     "metadata": {
      "needs_background": "light"
     },
     "output_type": "display_data"
    },
    {
     "data": {
      "image/png": "[encoded data removed]",
      "text/plain": [
       "<Figure size 432x288 with 1 Axes>"
      ]
     },
     "metadata": {
      "needs_background": "light"
     },
     "output_type": "display_data"
    }
   ],
   "source": [
    "acc = history.history['accuracy']\n",
    "val_acc = history.history['val_accuracy']\n",
    "loss = history.history['loss']\n",
    "val_loss = history.history['val_loss']\n",
    " \n",
    "epochs = range(len(acc))\n",
    " \n",
    "plt.plot(epochs, acc, 'b', label='Training acc')\n",
    "plt.plot(epochs, val_acc, 'r', label='Validation acc')\n",
    "plt.title('Training and validation accuracy')\n",
    "plt.legend()\n",
    " \n",
    "plt.figure()\n",
    " \n",
    "plt.plot(epochs, loss, 'b', label='Training loss')\n",
    "plt.plot(epochs, val_loss, 'r', label='Validation loss')\n",
    "plt.title('Training and validation loss')\n",
    "plt.legend()\n",
    " \n",
    "plt.show()"
   ]
  },
  {
   "cell_type": "markdown",
   "id": "b71d9d69",
   "metadata": {},
   "source": [
    "The training accuracy increased for the first few epochs and suddenly dropped a little then increase for a little and become constant. we can see that the validation accuracy does not increase exponentially like the training accuracy.\n",
    "The same goes for training and validation loss. "
   ]
  },
  {
   "cell_type": "markdown",
   "id": "ec6f3076",
   "metadata": {},
   "source": [
    "# 8. Sentiment Prediction using CBOW"
   ]
  },
  {
   "cell_type": "code",
   "execution_count": 70,
   "id": "1291f369",
   "metadata": {},
   "outputs": [],
   "source": [
    "# SENTIMENT\n",
    "POSITIVE = \"positive\"\n",
    "NEGATIVE = \"negative\"\n",
    "NEUTRAL = \"neutral\"\n",
    "SENTIMENT_THRESHOLDS = (0.4, 0.7)"
   ]
  },
  {
   "cell_type": "code",
   "execution_count": 71,
   "id": "aba92a09",
   "metadata": {},
   "outputs": [],
   "source": [
    "def decode_sentiment(score, include_neutral=True):\n",
    "    if include_neutral:        \n",
    "        label = NEUTRAL\n",
    "        if score <= SENTIMENT_THRESHOLDS[0]:\n",
    "            label = NEGATIVE\n",
    "        elif score >= SENTIMENT_THRESHOLDS[1]:\n",
    "            label = POSITIVE\n",
    "\n",
    "        return label\n",
    "    else:\n",
    "        return NEGATIVE if score < 0.5 else POSITIVE"
   ]
  },
  {
   "cell_type": "code",
   "execution_count": 90,
   "id": "d528bbe5",
   "metadata": {},
   "outputs": [],
   "source": [
    "def cbow_predict(text, include_neutral=True):\n",
    "    # Tokenize text\n",
    "    x_test = pad_sequences(tokenizer.texts_to_sequences([text]), maxlen=SEQUENCE_LENGTH)\n",
    "    # Predict\n",
    "    score = cbow_model.predict([x_test])[0]\n",
    "    # Decode sentiment\n",
    "    label = decode_sentiment(score, include_neutral=include_neutral)\n",
    "\n",
    "    return {\"The sentence is \": label, \"score\": float(score)}"
   ]
  },
  {
   "cell_type": "code",
   "execution_count": 91,
   "id": "50f8afc9",
   "metadata": {},
   "outputs": [
    {
     "name": "stderr",
     "output_type": "stream",
     "text": [
      "C:\\Users\\jingy\\AppData\\Local\\Temp/ipykernel_1448/1279217327.py:9: DeprecationWarning: Conversion of an array with ndim > 0 to a scalar is deprecated, and will error in future. Ensure you extract a single element from your array before performing this operation. (Deprecated NumPy 1.25.)\n",
      "  return {\"The sentence is \": label, \"score\": float(score)}\n"
     ]
    },
    {
     "data": {
      "text/plain": [
       "{'The sentence is ': 'positive', 'score': 0.9383248090744019}"
      ]
     },
     "execution_count": 91,
     "metadata": {},
     "output_type": "execute_result"
    }
   ],
   "source": [
    "cbow_predict(\"I think this is a very great movie.\")"
   ]
  },
  {
   "cell_type": "code",
   "execution_count": 92,
   "id": "34694dbb",
   "metadata": {
    "scrolled": true
   },
   "outputs": [
    {
     "name": "stderr",
     "output_type": "stream",
     "text": [
      "C:\\Users\\jingy\\AppData\\Local\\Temp/ipykernel_1448/1279217327.py:9: DeprecationWarning: Conversion of an array with ndim > 0 to a scalar is deprecated, and will error in future. Ensure you extract a single element from your array before performing this operation. (Deprecated NumPy 1.25.)\n",
      "  return {\"The sentence is \": label, \"score\": float(score)}\n"
     ]
    },
    {
     "data": {
      "text/plain": [
       "{'The sentence is ': 'negative', 'score': 0.00794142484664917}"
      ]
     },
     "execution_count": 92,
     "metadata": {},
     "output_type": "execute_result"
    }
   ],
   "source": [
    "cbow_predict(\"The movie is so bad, the actors are even worse.\")"
   ]
  },
  {
   "cell_type": "markdown",
   "id": "25955abd",
   "metadata": {},
   "source": [
    "# Part 2"
   ]
  },
  {
   "cell_type": "markdown",
   "id": "f52a4c0b",
   "metadata": {},
   "source": [
    "Part 1 to 3 will be same as CBOW model"
   ]
  },
  {
   "cell_type": "markdown",
   "id": "9f27a1f2",
   "metadata": {},
   "source": [
    "# 4. Skipgram Model"
   ]
  },
  {
   "cell_type": "code",
   "execution_count": 48,
   "id": "c347d51e",
   "metadata": {},
   "outputs": [],
   "source": [
    "# Create Skip Gram model\n",
    "model2 = gensim.models.Word2Vec(documents, min_count = 5, vector_size = W2V_SIZE, window = 5, sg = 1, hs = 1, negative=0)"
   ]
  },
  {
   "cell_type": "code",
   "execution_count": 49,
   "id": "b760dfc3",
   "metadata": {},
   "outputs": [
    {
     "name": "stdout",
     "output_type": "stream",
     "text": [
      "Number of vocab in Skipgram Model:76833\n"
     ]
    }
   ],
   "source": [
    "#Vocab in the models\n",
    "wv_vocab_size2 = len(model2.wv)\n",
    "print(f\"Number of vocab in Skipgram Model:{wv_vocab_size2}\")"
   ]
  },
  {
   "cell_type": "code",
   "execution_count": 51,
   "id": "728467a9",
   "metadata": {},
   "outputs": [
    {
     "name": "stdout",
     "output_type": "stream",
     "text": [
      "Cosine similarity between 'violence' and 'drug' - Skipgram :  0.34947568\n",
      "\n",
      "Cosine similarity between 'drugs' and 'alcohol' - Skipgram :  0.5067208\n",
      "\n",
      "Cosine similarity between 'violence' and 'kindness' - Skipgram :  0.24092786\n"
     ]
    }
   ],
   "source": [
    "# Print some cosine similarity results of tokens in the vocabulary\n",
    "print(\"Cosine similarity between 'violence' \" + \"and 'drug' - Skipgram : \", model2.wv.similarity('violence', 'drugs'))\n",
    "\n",
    "print(\"\\nCosine similarity between 'drugs' \" + \"and 'alcohol' - Skipgram : \", model2.wv.similarity('drug', 'alcohol'))\n",
    "\n",
    "print(\"\\nCosine similarity between 'violence' \" + \"and 'kindness' - Skipgram : \", model2.wv.similarity('violence', 'kindness'))"
   ]
  },
  {
   "cell_type": "markdown",
   "id": "fe93b5fc",
   "metadata": {},
   "source": [
    "# 5. Embedding layer"
   ]
  },
  {
   "cell_type": "code",
   "execution_count": 52,
   "id": "c868c110",
   "metadata": {},
   "outputs": [
    {
     "name": "stdout",
     "output_type": "stream",
     "text": [
      "(89902, 300)\n"
     ]
    }
   ],
   "source": [
    "embedding_matrix2 = np.zeros((vocab_size, W2V_SIZE))\n",
    "for word, i in tokenizer.word_index.items():\n",
    "    if word in model2.wv:\n",
    "        embedding_matrix2[i] = model2.wv[word]\n",
    "print(embedding_matrix2.shape)"
   ]
  },
  {
   "cell_type": "code",
   "execution_count": 53,
   "id": "41904546",
   "metadata": {},
   "outputs": [],
   "source": [
    "embedding_layer2 = Embedding(vocab_size, W2V_SIZE, weights=[embedding_matrix2], input_length=SEQUENCE_LENGTH, trainable=False)"
   ]
  },
  {
   "cell_type": "markdown",
   "id": "6e6e71be",
   "metadata": {},
   "source": [
    "# 6. Building BiLSTM Model using Skipgram"
   ]
  },
  {
   "cell_type": "code",
   "execution_count": 54,
   "id": "84e9026e",
   "metadata": {},
   "outputs": [
    {
     "name": "stdout",
     "output_type": "stream",
     "text": [
      "Model: \"sequential\"\n",
      "_________________________________________________________________\n",
      " Layer (type)                Output Shape              Param #   \n",
      "=================================================================\n",
      " embedding (Embedding)       (None, 300, 300)          26970600  \n",
      "                                                                 \n",
      " bidirectional (Bidirectiona  (None, 200)              320800    \n",
      " l)                                                              \n",
      "                                                                 \n",
      " dropout (Dropout)           (None, 200)               0         \n",
      "                                                                 \n",
      " dense (Dense)               (None, 1)                 201       \n",
      "                                                                 \n",
      "=================================================================\n",
      "Total params: 27,291,601\n",
      "Trainable params: 321,001\n",
      "Non-trainable params: 26,970,600\n",
      "_________________________________________________________________\n",
      "None\n"
     ]
    }
   ],
   "source": [
    "sg_model = Sequential()\n",
    "sg_model.add(embedding_layer2)\n",
    "sg_model.add(Bidirectional(LSTM(100)))\n",
    "sg_model.add(Dropout(0.5))\n",
    "sg_model.add(Dense(1, activation='sigmoid'))\n",
    "\n",
    "sg_model.compile(loss='binary_crossentropy', optimizer='adam', metrics=['accuracy']) \n",
    "\n",
    "# summarize the model\n",
    "print(sg_model.summary())"
   ]
  },
  {
   "cell_type": "markdown",
   "id": "048d9519",
   "metadata": {},
   "source": [
    "### 6.2 Train Model"
   ]
  },
  {
   "cell_type": "code",
   "execution_count": 61,
   "id": "4b70ff0f",
   "metadata": {},
   "outputs": [
    {
     "name": "stdout",
     "output_type": "stream",
     "text": [
      "Epoch 1/10\n",
      "2500/2500 [==============================] - 277s 110ms/step - loss: 0.3793 - accuracy: 0.8371 - val_loss: 0.3491 - val_accuracy: 0.8417 - lr: 0.0010\n",
      "Epoch 2/10\n",
      "2500/2500 [==============================] - 264s 105ms/step - loss: 0.2930 - accuracy: 0.8805 - val_loss: 0.2638 - val_accuracy: 0.8883 - lr: 0.0010\n",
      "Epoch 3/10\n",
      "2500/2500 [==============================] - 270s 108ms/step - loss: 0.2584 - accuracy: 0.8968 - val_loss: 0.2467 - val_accuracy: 0.8996 - lr: 0.0010\n",
      "Epoch 4/10\n",
      "2500/2500 [==============================] - 276s 110ms/step - loss: 0.2368 - accuracy: 0.9075 - val_loss: 0.2565 - val_accuracy: 0.9000 - lr: 0.0010\n",
      "Epoch 5/10\n",
      "2500/2500 [==============================] - 281s 113ms/step - loss: 0.2134 - accuracy: 0.9155 - val_loss: 0.2452 - val_accuracy: 0.8977 - lr: 0.0010\n",
      "Epoch 6/10\n",
      "2500/2500 [==============================] - 285s 114ms/step - loss: 0.1920 - accuracy: 0.9251 - val_loss: 0.2478 - val_accuracy: 0.9015 - lr: 0.0010\n",
      "Epoch 7/10\n",
      "2500/2500 [==============================] - 270s 108ms/step - loss: 0.1689 - accuracy: 0.9349 - val_loss: 0.2596 - val_accuracy: 0.8999 - lr: 0.0010\n",
      "Epoch 8/10\n",
      "2500/2500 [==============================] - 264s 106ms/step - loss: 0.1464 - accuracy: 0.9446 - val_loss: 0.2684 - val_accuracy: 0.8985 - lr: 0.0010\n",
      "Epoch 9/10\n",
      "2500/2500 [==============================] - 279s 112ms/step - loss: 0.1224 - accuracy: 0.9551 - val_loss: 0.2962 - val_accuracy: 0.8999 - lr: 0.0010\n",
      "Epoch 10/10\n",
      "2500/2500 [==============================] - 305s 122ms/step - loss: 0.1151 - accuracy: 0.9582 - val_loss: 0.3057 - val_accuracy: 0.8958 - lr: 0.0010\n"
     ]
    }
   ],
   "source": [
    "# fit the model\n",
    "history2 = sg_model.fit(x=padded_X_train,\n",
    "                        y=y_train,\n",
    "                        batch_size=16,\n",
    "                        epochs=10,\n",
    "                        validation_data=(padded_X_test, y_test), \n",
    "                        verbose=1,\n",
    "                        callbacks=callbacks\n",
    "                        )"
   ]
  },
  {
   "cell_type": "code",
   "execution_count": 63,
   "id": "676bf80d",
   "metadata": {},
   "outputs": [
    {
     "name": "stderr",
     "output_type": "stream",
     "text": [
      "WARNING:absl:Found untraced functions such as lstm_cell_1_layer_call_fn, lstm_cell_1_layer_call_and_return_conditional_losses, lstm_cell_2_layer_call_fn, lstm_cell_2_layer_call_and_return_conditional_losses while saving (showing 4 of 4). These functions will not be directly callable after loading.\n"
     ]
    },
    {
     "name": "stdout",
     "output_type": "stream",
     "text": [
      "INFO:tensorflow:Assets written to: sg_BiLSTM.sav\\assets\n"
     ]
    },
    {
     "name": "stderr",
     "output_type": "stream",
     "text": [
      "INFO:tensorflow:Assets written to: sg_BiLSTM.sav\\assets\n",
      "WARNING:absl:<keras.layers.recurrent.LSTMCell object at 0x0000020D3D172820> has the same name 'LSTMCell' as a built-in Keras object. Consider renaming <class 'keras.layers.recurrent.LSTMCell'> to avoid naming conflicts when loading with `tf.keras.models.load_model`. If renaming is not possible, pass the object in the `custom_objects` parameter of the load function.\n",
      "WARNING:absl:<keras.layers.recurrent.LSTMCell object at 0x0000020D3CD28880> has the same name 'LSTMCell' as a built-in Keras object. Consider renaming <class 'keras.layers.recurrent.LSTMCell'> to avoid naming conflicts when loading with `tf.keras.models.load_model`. If renaming is not possible, pass the object in the `custom_objects` parameter of the load function.\n"
     ]
    }
   ],
   "source": [
    "#save model\n",
    "sg_model.save('sg_BiLSTM.sav')\n",
    "model2.save('sg_model')"
   ]
  },
  {
   "cell_type": "markdown",
   "id": "d3cf6eb6",
   "metadata": {},
   "source": [
    "# 7. Model Evaluation"
   ]
  },
  {
   "cell_type": "markdown",
   "id": "08302d0e",
   "metadata": {},
   "source": [
    "The model is evaluated using 4 methods:\n",
    "1. Classification Report\n",
    "2. Confusion Matrix\n",
    "3. Accuracy\n",
    "4. training and validation accuracy and loss graphs"
   ]
  },
  {
   "cell_type": "code",
   "execution_count": 64,
   "id": "032c32e1",
   "metadata": {},
   "outputs": [],
   "source": [
    "sg_preds = (sg_model.predict(padded_X_test) > 0.5)"
   ]
  },
  {
   "cell_type": "code",
   "execution_count": 67,
   "id": "41532990",
   "metadata": {},
   "outputs": [
    {
     "name": "stdout",
     "output_type": "stream",
     "text": [
      "Classification Report\n",
      "              precision    recall  f1-score   support\n",
      "\n",
      "           0       0.90      0.88      0.89      4961\n",
      "           1       0.89      0.91      0.90      5039\n",
      "\n",
      "    accuracy                           0.90     10000\n",
      "   macro avg       0.90      0.90      0.90     10000\n",
      "weighted avg       0.90      0.90      0.90     10000\n",
      "\n"
     ]
    }
   ],
   "source": [
    "c_report(y_test, sg_preds)"
   ]
  },
  {
   "cell_type": "code",
   "execution_count": 68,
   "id": "f4ef7d28",
   "metadata": {},
   "outputs": [
    {
     "data": {
      "image/png": "[encoded data removed]",
      "text/plain": [
       "<Figure size 640x480 with 1 Axes>"
      ]
     },
     "metadata": {},
     "output_type": "display_data"
    }
   ],
   "source": [
    "plot_confusion_matrix(y_test, sg_preds)"
   ]
  },
  {
   "cell_type": "markdown",
   "id": "1a559c5e",
   "metadata": {},
   "source": [
    "Number of correctly predicted sentiments is 4380 + 4578, and the total number of sentiments predicted is 10000.\n",
    "\n",
    "The accuracy is number of correctly predicted sentiments / total number of sentiments predicted,\n",
    "8957/10000 = 0.8957"
   ]
  },
  {
   "cell_type": "code",
   "execution_count": 69,
   "id": "5d41205f",
   "metadata": {},
   "outputs": [
    {
     "name": "stdout",
     "output_type": "stream",
     "text": [
      "625/625 [==============================] - 37s 59ms/step - loss: 0.3057 - accuracy: 0.8958\n",
      "\n",
      " [0.3057039976119995, 0.895799994468689]\n",
      "ACCURACY: 0.895799994468689\n",
      "LOSS: 0.3057039976119995\n",
      "CPU times: total: 3min 10s\n",
      "Wall time: 36.9 s\n"
     ]
    }
   ],
   "source": [
    "%%time\n",
    "# outputs the accuracy and the loss\n",
    "sg_score = sg_model.evaluate(padded_X_test, y_test, batch_size=16)\n",
    "print(\"\\n\", sg_score)\n",
    "print(\"ACCURACY:\",sg_score[1])\n",
    "print(\"LOSS:\",sg_score[0])"
   ]
  },
  {
   "cell_type": "code",
   "execution_count": 98,
   "id": "a88cfaaf",
   "metadata": {},
   "outputs": [
    {
     "data": {
      "image/png": "[encoded data removed]",
      "text/plain": [
       "<Figure size 432x288 with 1 Axes>"
      ]
     },
     "metadata": {
      "needs_background": "light"
     },
     "output_type": "display_data"
    },
    {
     "data": {
      "image/png": "[encoded data removed]",
      "text/plain": [
       "<Figure size 432x288 with 1 Axes>"
      ]
     },
     "metadata": {
      "needs_background": "light"
     },
     "output_type": "display_data"
    }
   ],
   "source": [
    "acc = history2.history['accuracy']\n",
    "val_acc = history2.history['val_accuracy']\n",
    "loss = history2.history['loss']\n",
    "val_loss = history2.history['val_loss']\n",
    " \n",
    "epochs = range(len(acc))\n",
    " \n",
    "plt.plot(epochs, acc, 'b', label='Training acc')\n",
    "plt.plot(epochs, val_acc, 'g', label='Validation acc')\n",
    "plt.title('Training and validation accuracy')\n",
    "plt.legend()\n",
    " \n",
    "plt.figure()\n",
    " \n",
    "plt.plot(epochs, loss, 'b', label='Training loss')\n",
    "plt.plot(epochs, val_loss, 'g', label='Validation loss')\n",
    "plt.title('Training and validation loss')\n",
    "plt.legend()\n",
    " \n",
    "plt.show()"
   ]
  },
  {
   "cell_type": "markdown",
   "id": "b3b87f08",
   "metadata": {},
   "source": [
    "The training accuracy increased for the first few epochs and suddenly dropped and increase again, we can see that the validation accuracy does not increase exponentially like the training accuracy.\n",
    "The same goes for training and validation loss. "
   ]
  },
  {
   "cell_type": "markdown",
   "id": "bcc09b0c",
   "metadata": {},
   "source": [
    "# 8. Sentiment Prediction using Skipgram"
   ]
  },
  {
   "cell_type": "markdown",
   "id": "f13553ce",
   "metadata": {},
   "source": [
    "To predict sentiment using BiLSTM, we must first tokenize the sentence and pad it, then only fit it into BiLSTM model. Sentiment will be predicted based on the sentiment score. If score less than 0.3, it will be negative, if between 0.3 and 0.7 it will be neutral, if larger than 0.7 it will be positive."
   ]
  },
  {
   "cell_type": "code",
   "execution_count": 100,
   "id": "8993a220",
   "metadata": {},
   "outputs": [],
   "source": [
    "def sg_predict(text, include_neutral=True):\n",
    "    # Tokenize text\n",
    "    x_test = pad_sequences(tokenizer.texts_to_sequences([text]), maxlen=SEQUENCE_LENGTH)\n",
    "    # Predict\n",
    "    score = sg_model.predict([x_test])[0]\n",
    "    # Decode sentiment\n",
    "    label = decode_sentiment(score, include_neutral=include_neutral)\n",
    "\n",
    "    return {\"label\": label, \"score\": float(score)}"
   ]
  },
  {
   "cell_type": "code",
   "execution_count": 101,
   "id": "e5234959",
   "metadata": {},
   "outputs": [
    {
     "name": "stderr",
     "output_type": "stream",
     "text": [
      "C:\\Users\\jingy\\AppData\\Local\\Temp/ipykernel_1448/1161347097.py:9: DeprecationWarning: Conversion of an array with ndim > 0 to a scalar is deprecated, and will error in future. Ensure you extract a single element from your array before performing this operation. (Deprecated NumPy 1.25.)\n",
      "  return {\"label\": label, \"score\": float(score)}\n"
     ]
    },
    {
     "data": {
      "text/plain": [
       "{'label': 'positive', 'score': 0.9327481389045715}"
      ]
     },
     "execution_count": 101,
     "metadata": {},
     "output_type": "execute_result"
    }
   ],
   "source": [
    "sg_predict(\"I think this is a very great movie.\")"
   ]
  },
  {
   "cell_type": "code",
   "execution_count": 102,
   "id": "4d9c2526",
   "metadata": {
    "scrolled": true
   },
   "outputs": [
    {
     "name": "stderr",
     "output_type": "stream",
     "text": [
      "C:\\Users\\jingy\\AppData\\Local\\Temp/ipykernel_1448/1161347097.py:9: DeprecationWarning: Conversion of an array with ndim > 0 to a scalar is deprecated, and will error in future. Ensure you extract a single element from your array before performing this operation. (Deprecated NumPy 1.25.)\n",
      "  return {\"label\": label, \"score\": float(score)}\n"
     ]
    },
    {
     "data": {
      "text/plain": [
       "{'label': 'negative', 'score': 0.017284095287322998}"
      ]
     },
     "execution_count": 102,
     "metadata": {},
     "output_type": "execute_result"
    }
   ],
   "source": [
    "sg_predict(\"The movie is so bad, the actors are even worse.\")"
   ]
  },
  {
   "cell_type": "markdown",
   "id": "14f24330",
   "metadata": {},
   "source": [
    "BiLSTM Model trained using Skipgram is able to successfully predict the sentiment of the two reviews."
   ]
  },
  {
   "cell_type": "markdown",
   "id": "34871453",
   "metadata": {},
   "source": [
    "# Summary\n",
    "BiLSTM is a type recurrent neural network, benefit of BiLSTM is that it is able to capture long-term dependencies, solves vanishing gradient problem, suitable for sequential data, thus it is a good choice for sentiment analysis of long reviews.\n",
    "Both BiLSTM achieved high accuracy, 0.8897 for CBOW and 0.8998 for Skipgram. Both models can be said to be a success as it has high training and validation accuracy."
   ]
  }
 ],
 "metadata": {
  "kernelspec": {
   "display_name": "Python 3 (ipykernel)",
   "language": "python",
   "name": "python3"
  },
  "language_info": {
   "codemirror_mode": {
    "name": "ipython",
    "version": 3
   },
   "file_extension": ".py",
   "mimetype": "text/x-python",
   "name": "python",
   "nbconvert_exporter": "python",
   "pygments_lexer": "ipython3",
   "version": "3.8.18"
  }
 },
 "nbformat": 4,
 "nbformat_minor": 5
}
